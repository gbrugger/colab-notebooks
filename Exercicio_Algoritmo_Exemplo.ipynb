{
  "nbformat": 4,
  "nbformat_minor": 0,
  "metadata": {
    "kernelspec": {
      "display_name": "Python 3",
      "language": "python",
      "name": "python3"
    },
    "language_info": {
      "codemirror_mode": {
        "name": "ipython",
        "version": 3
      },
      "file_extension": ".py",
      "mimetype": "text/x-python",
      "name": "python",
      "nbconvert_exporter": "python",
      "pygments_lexer": "ipython3",
      "version": "3.7.5"
    },
    "colab": {
      "name": "Exercicio_Algoritmo_Exemplo.ipynb",
      "provenance": [],
      "collapsed_sections": [],
      "include_colab_link": true
    }
  },
  "cells": [
    {
      "cell_type": "markdown",
      "metadata": {
        "id": "view-in-github",
        "colab_type": "text"
      },
      "source": [
        "<a href=\"https://colab.research.google.com/github/gbrugger/colab-notebooks/blob/master/Exercicio_Algoritmo_Exemplo.ipynb\" target=\"_parent\"><img src=\"https://colab.research.google.com/assets/colab-badge.svg\" alt=\"Open In Colab\"/></a>"
      ]
    },
    {
      "cell_type": "markdown",
      "metadata": {
        "id": "ZQieo5FOECgo",
        "colab_type": "text"
      },
      "source": [
        "### Exercício 1:\n",
        "**Escreva um algoritmo que leia quatro valores inteiros distintos e retorne esses valores em ordem crescente.**"
      ]
    },
    {
      "cell_type": "markdown",
      "metadata": {
        "id": "Xlu78uDCECgp",
        "colab_type": "text"
      },
      "source": [
        "Instruções: \n",
        "- Não use funções de ordenação embutidas na linguagem. Ordene manualmente.\n",
        "- Escreva todo o código em uma função chamada `ascSort()`, que recebe todos os valores de uma vez e retorna uma lista.\n",
        "- Separe o código que recebe os valores e só depois chame a função `ascSort()`. Por exemplo:\n",
        "```\n",
        "if __name__ == '__main__':\n",
        "    #  Código para receber os valores com input()\n",
        "    #  ascSort(valores)\n",
        "```\n",
        "- A função deve lançar um `ValueError` caso alguma das regras do exercício seja quebrada."
      ]
    },
    {
      "cell_type": "markdown",
      "metadata": {
        "id": "Pz8FRXLkECgp",
        "colab_type": "text"
      },
      "source": [
        "### Solução:"
      ]
    },
    {
      "cell_type": "code",
      "metadata": {
        "id": "10VEFRNsECgp",
        "colab_type": "code",
        "colab": {}
      },
      "source": [
        "def ascSort(*args):\n",
        "    toSort = [*args]\n",
        "    \n",
        "    #  Verifica restrições\n",
        "    if not all(isinstance(x, int) for x in toSort) \\\n",
        "       or len(toSort) != 4 \\\n",
        "       or len(toSort) > len(set(toSort)):\n",
        "        raise ValueError()\n",
        "        \n",
        "    size = len(toSort) - 1\n",
        "    \n",
        "    for firstIndex in range(size):\n",
        "    \n",
        "        for secIndex in range(size - firstIndex):\n",
        "            if toSort[secIndex] > toSort[secIndex + 1]: \n",
        "                toSort[secIndex], toSort[secIndex + 1] = toSort[secIndex + 1], toSort[secIndex]\n",
        "    \n",
        "    return toSort\n",
        "\n",
        "if __name__ == '__main__':\n",
        "    args = []\n",
        "    for i in range(4):\n",
        "        val = int(input(f'Digite o {i + 1}.o valor:'))\n",
        "        args.append(val)\n",
        "    print(ascSort(*args))"
      ],
      "execution_count": null,
      "outputs": []
    },
    {
      "cell_type": "markdown",
      "metadata": {
        "id": "PAhV0u15ECgs",
        "colab_type": "text"
      },
      "source": [
        "### Comentários sobre a solução:\n",
        "O algoritmo usado foi o Bubble Sort..."
      ]
    },
    {
      "cell_type": "markdown",
      "metadata": {
        "id": "h2YlXWZQECgs",
        "colab_type": "text"
      },
      "source": [
        "### Teste:"
      ]
    },
    {
      "cell_type": "code",
      "metadata": {
        "id": "jyLCq2pFECgt",
        "colab_type": "code",
        "colab": {}
      },
      "source": [
        "import unittest\n",
        "\n",
        "class TesteExercicio1(unittest.TestCase):\n",
        "\n",
        "    def testCorrect(self):\n",
        "        self.assertEqual(ascSort(4, 3, 2, 1), [1, 2, 3, 4])\n",
        "    \n",
        "    def testString(self):\n",
        "        with self.assertRaises(ValueError):\n",
        "            ascSort(4, 3, 2, 'a')\n",
        "    \n",
        "    def testFloat(self):\n",
        "        with self.assertRaises(ValueError):\n",
        "            ascSort(4, 3, 2, 1.0)\n",
        "    \n",
        "    def testRepeated(self):\n",
        "        with self.assertRaises(ValueError):\n",
        "            ascSort(4, 3, 2, 4)\n",
        "    \n",
        "    def testMoreArgs(self):\n",
        "        with self.assertRaises(ValueError):\n",
        "            ascSort(5, 4, 3, 2, 1)\n",
        "\n",
        "    def testLessArgs(self):\n",
        "        with self.assertRaises(ValueError):\n",
        "            ascSort(3, 2, 1)\n",
        "    \n",
        "    def testType(self):\n",
        "        self.assertEqual(type(ascSort(4, 3, 2, 1)), list)\n",
        "\n",
        "if __name__ == '__main__':\n",
        "    unittest.main(argv=['ignorar'], exit=False)"
      ],
      "execution_count": null,
      "outputs": []
    }
  ]
}